{
 "cells": [
  {
   "cell_type": "markdown",
   "id": "0f0eb50c-a130-42f8-a42a-094a2cea7b35",
   "metadata": {},
   "source": [
    "A good tutorial video: https://www.youtube.com/watch?v=vmEHCJofslg"
   ]
  },
  {
   "cell_type": "code",
   "execution_count": null,
   "id": "470bbf0e-657b-4904-88b7-9cd548940c0e",
   "metadata": {},
   "outputs": [],
   "source": [
    "df = pd.read_cvs('fn.txt',delimiter=',')\n"
   ]
  },
  {
   "cell_type": "code",
   "execution_count": null,
   "id": "d1690ac7-c087-42bf-95c7-0c93a56c43ad",
   "metadata": {},
   "outputs": [],
   "source": [
    "# read headers\n",
    "df.columns \n",
    "\n",
    "# read one column by its index name\n",
    "df['<Name of the column>']\n",
    "\n",
    "# read one row\n",
    "df.head(10) \n",
    "df.tail(10)\n",
    "# read column by index\n",
    "df.iloc[0]\n",
    "# find column by the name of the rows\n",
    "df.loc[df['Name'] == 'Lin']\n",
    "\n",
    "# read info in each row; returns index of the row + content of the row\n",
    "df.iterrows()\n",
    "for index, row in df.iterrows():\n",
    "    print(index, row['Name'])\n",
    "\n",
    "# sorting\n",
    "df.sort_values()\n",
    "\n",
    "# groupby \n",
    "df.groupby(['Type 1']).mean().sort_values('Type 2', ascending=False)\n"
   ]
  }
 ],
 "metadata": {
  "kernelspec": {
   "display_name": "NERSC Python",
   "language": "python",
   "name": "python3"
  },
  "language_info": {
   "codemirror_mode": {
    "name": "ipython",
    "version": 3
   },
   "file_extension": ".py",
   "mimetype": "text/x-python",
   "name": "python",
   "nbconvert_exporter": "python",
   "pygments_lexer": "ipython3",
   "version": "3.9.7"
  }
 },
 "nbformat": 4,
 "nbformat_minor": 5
}
